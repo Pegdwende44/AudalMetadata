{
 "cells": [
  {
   "cell_type": "markdown",
   "metadata": {},
   "source": [
    "##### Loading packages"
   ]
  },
  {
   "cell_type": "code",
   "execution_count": 1,
   "metadata": {},
   "outputs": [],
   "source": [
    "from pymongo import MongoClient\n",
    "import json\n",
    "import time\n",
    "from bson.json_util import dumps\n",
    "from elasticsearch import Elasticsearch\n",
    "import pandas as pd\n",
    "from py2neo import Graph, Node, Relationship\n",
    "import re\n",
    "import numpy as np\n",
    "from time import time, ctime"
   ]
  },
  {
   "cell_type": "code",
   "execution_count": 2,
   "metadata": {},
   "outputs": [],
   "source": [
    "start = time()"
   ]
  },
  {
   "cell_type": "markdown",
   "metadata": {},
   "source": [
    "##### Connexion to MongoDB"
   ]
  },
  {
   "cell_type": "code",
   "execution_count": 3,
   "metadata": {},
   "outputs": [],
   "source": [
    "#Server\n",
    "server = MongoClient('')\n",
    "#BD\n",
    "db = server['aura_pmi_dl']\n",
    "#Collection\n",
    "collection = db['document_profiles']"
   ]
  },
  {
   "cell_type": "markdown",
   "metadata": {},
   "source": [
    "##### Connexion to Neo4j"
   ]
  },
  {
   "cell_type": "code",
   "execution_count": 4,
   "metadata": {},
   "outputs": [],
   "source": [
    "graph = Graph(\"bolt://159.84.108.111:7687\", auth=(\"neo4j\", \"\"))"
   ]
  },
  {
   "cell_type": "code",
   "execution_count": 5,
   "metadata": {},
   "outputs": [],
   "source": [
    "#Réinit Neo4j DB\n",
    "graph. delete_all()\n",
    "#graph.run('MATCH (n) DETACH DELETE n')\n",
    "#graph.run(\"MATCH (n) OPTIONAL MATCH (n)-[r]-() DELETE r,n\")"
   ]
  },
  {
   "cell_type": "markdown",
   "metadata": {},
   "source": [
    "##### Loading metadata"
   ]
  },
  {
   "cell_type": "code",
   "execution_count": 6,
   "metadata": {},
   "outputs": [
    {
     "data": {
      "text/html": [
       "<div>\n",
       "<style scoped>\n",
       "    .dataframe tbody tr th:only-of-type {\n",
       "        vertical-align: middle;\n",
       "    }\n",
       "\n",
       "    .dataframe tbody tr th {\n",
       "        vertical-align: top;\n",
       "    }\n",
       "\n",
       "    .dataframe thead th {\n",
       "        text-align: right;\n",
       "    }\n",
       "</style>\n",
       "<table border=\"1\" class=\"dataframe\">\n",
       "  <thead>\n",
       "    <tr style=\"text-align: right;\">\n",
       "      <th></th>\n",
       "      <th>docid</th>\n",
       "      <th>domain</th>\n",
       "      <th>submitted_date</th>\n",
       "      <th>title</th>\n",
       "      <th>file_url</th>\n",
       "      <th>inst</th>\n",
       "      <th>language</th>\n",
       "      <th>filepath</th>\n",
       "      <th>year</th>\n",
       "      <th>month</th>\n",
       "      <th>date</th>\n",
       "    </tr>\n",
       "    <tr>\n",
       "      <th></th>\n",
       "      <th></th>\n",
       "      <th></th>\n",
       "      <th></th>\n",
       "      <th></th>\n",
       "      <th></th>\n",
       "      <th></th>\n",
       "      <th></th>\n",
       "      <th></th>\n",
       "      <th></th>\n",
       "      <th></th>\n",
       "      <th></th>\n",
       "    </tr>\n",
       "  </thead>\n",
       "  <tbody>\n",
       "    <tr>\n",
       "      <th>/home/ubuntu/hal/data/0.scco/19.pdf</th>\n",
       "      <td>19</td>\n",
       "      <td>scco</td>\n",
       "      <td>2002-10-10 15:18:34</td>\n",
       "      <td>Self-motion and the perception of stationary o...</td>\n",
       "      <td>https://hal.archives-ouvertes.fr/hal-00000019/...</td>\n",
       "      <td>CdF (institution)</td>\n",
       "      <td>en</td>\n",
       "      <td>/home/ubuntu/hal/data/0.scco/19.pdf</td>\n",
       "      <td>2002</td>\n",
       "      <td>10</td>\n",
       "      <td>2002-10-10</td>\n",
       "    </tr>\n",
       "    <tr>\n",
       "      <th>/home/ubuntu/hal/data/0.scco/20.pdf</th>\n",
       "      <td>20</td>\n",
       "      <td>scco</td>\n",
       "      <td>2002-10-10 15:33:58</td>\n",
       "      <td>The stationarity hypothesis: An allocentric cr...</td>\n",
       "      <td>https://hal.archives-ouvertes.fr/hal-00000020/...</td>\n",
       "      <td>CdF (institution)</td>\n",
       "      <td>en</td>\n",
       "      <td>/home/ubuntu/hal/data/0.scco/20.pdf</td>\n",
       "      <td>2002</td>\n",
       "      <td>10</td>\n",
       "      <td>2002-10-10</td>\n",
       "    </tr>\n",
       "    <tr>\n",
       "      <th>/home/ubuntu/hal/data/0.phys/29.pdf</th>\n",
       "      <td>29</td>\n",
       "      <td>phys</td>\n",
       "      <td>2002-10-25 17:07:11</td>\n",
       "      <td>Statistics of lowest droplets in two-dimension...</td>\n",
       "      <td>https://hal.archives-ouvertes.fr/hal-00000029/...</td>\n",
       "      <td>UPMC</td>\n",
       "      <td>en</td>\n",
       "      <td>/home/ubuntu/hal/data/0.phys/29.pdf</td>\n",
       "      <td>2002</td>\n",
       "      <td>10</td>\n",
       "      <td>2002-10-25</td>\n",
       "    </tr>\n",
       "    <tr>\n",
       "      <th>/home/ubuntu/hal/data/0.math/36.pdf</th>\n",
       "      <td>36</td>\n",
       "      <td>math</td>\n",
       "      <td>2002-11-04 10:28:04</td>\n",
       "      <td>The Selberg zeta function for convex co-compac...</td>\n",
       "      <td>https://hal.archives-ouvertes.fr/hal-00000036/...</td>\n",
       "      <td>UN</td>\n",
       "      <td>en</td>\n",
       "      <td>/home/ubuntu/hal/data/0.math/36.pdf</td>\n",
       "      <td>2002</td>\n",
       "      <td>11</td>\n",
       "      <td>2002-11-04</td>\n",
       "    </tr>\n",
       "    <tr>\n",
       "      <th>/home/ubuntu/hal/data/0.scco/62.pdf</th>\n",
       "      <td>62</td>\n",
       "      <td>scco</td>\n",
       "      <td>2002-11-19 19:52:53</td>\n",
       "      <td>Perception and reconstruction of two-dimension...</td>\n",
       "      <td>https://hal.archives-ouvertes.fr/hal-00000062/...</td>\n",
       "      <td>CdF (institution)</td>\n",
       "      <td>en</td>\n",
       "      <td>/home/ubuntu/hal/data/0.scco/62.pdf</td>\n",
       "      <td>2002</td>\n",
       "      <td>11</td>\n",
       "      <td>2002-11-19</td>\n",
       "    </tr>\n",
       "  </tbody>\n",
       "</table>\n",
       "</div>"
      ],
      "text/plain": [
       "                                     docid domain      submitted_date  \\\n",
       "                                                                        \n",
       "/home/ubuntu/hal/data/0.scco/19.pdf     19   scco 2002-10-10 15:18:34   \n",
       "/home/ubuntu/hal/data/0.scco/20.pdf     20   scco 2002-10-10 15:33:58   \n",
       "/home/ubuntu/hal/data/0.phys/29.pdf     29   phys 2002-10-25 17:07:11   \n",
       "/home/ubuntu/hal/data/0.math/36.pdf     36   math 2002-11-04 10:28:04   \n",
       "/home/ubuntu/hal/data/0.scco/62.pdf     62   scco 2002-11-19 19:52:53   \n",
       "\n",
       "                                                                                 title  \\\n",
       "                                                                                         \n",
       "/home/ubuntu/hal/data/0.scco/19.pdf  Self-motion and the perception of stationary o...   \n",
       "/home/ubuntu/hal/data/0.scco/20.pdf  The stationarity hypothesis: An allocentric cr...   \n",
       "/home/ubuntu/hal/data/0.phys/29.pdf  Statistics of lowest droplets in two-dimension...   \n",
       "/home/ubuntu/hal/data/0.math/36.pdf  The Selberg zeta function for convex co-compac...   \n",
       "/home/ubuntu/hal/data/0.scco/62.pdf  Perception and reconstruction of two-dimension...   \n",
       "\n",
       "                                                                              file_url  \\\n",
       "                                                                                         \n",
       "/home/ubuntu/hal/data/0.scco/19.pdf  https://hal.archives-ouvertes.fr/hal-00000019/...   \n",
       "/home/ubuntu/hal/data/0.scco/20.pdf  https://hal.archives-ouvertes.fr/hal-00000020/...   \n",
       "/home/ubuntu/hal/data/0.phys/29.pdf  https://hal.archives-ouvertes.fr/hal-00000029/...   \n",
       "/home/ubuntu/hal/data/0.math/36.pdf  https://hal.archives-ouvertes.fr/hal-00000036/...   \n",
       "/home/ubuntu/hal/data/0.scco/62.pdf  https://hal.archives-ouvertes.fr/hal-00000062/...   \n",
       "\n",
       "                                                  inst language  \\\n",
       "                                                                  \n",
       "/home/ubuntu/hal/data/0.scco/19.pdf  CdF (institution)       en   \n",
       "/home/ubuntu/hal/data/0.scco/20.pdf  CdF (institution)       en   \n",
       "/home/ubuntu/hal/data/0.phys/29.pdf               UPMC       en   \n",
       "/home/ubuntu/hal/data/0.math/36.pdf                 UN       en   \n",
       "/home/ubuntu/hal/data/0.scco/62.pdf  CdF (institution)       en   \n",
       "\n",
       "                                                                filepath  \\\n",
       "                                                                           \n",
       "/home/ubuntu/hal/data/0.scco/19.pdf  /home/ubuntu/hal/data/0.scco/19.pdf   \n",
       "/home/ubuntu/hal/data/0.scco/20.pdf  /home/ubuntu/hal/data/0.scco/20.pdf   \n",
       "/home/ubuntu/hal/data/0.phys/29.pdf  /home/ubuntu/hal/data/0.phys/29.pdf   \n",
       "/home/ubuntu/hal/data/0.math/36.pdf  /home/ubuntu/hal/data/0.math/36.pdf   \n",
       "/home/ubuntu/hal/data/0.scco/62.pdf  /home/ubuntu/hal/data/0.scco/62.pdf   \n",
       "\n",
       "                                     year  month        date  \n",
       "                                                              \n",
       "/home/ubuntu/hal/data/0.scco/19.pdf  2002     10  2002-10-10  \n",
       "/home/ubuntu/hal/data/0.scco/20.pdf  2002     10  2002-10-10  \n",
       "/home/ubuntu/hal/data/0.phys/29.pdf  2002     10  2002-10-25  \n",
       "/home/ubuntu/hal/data/0.math/36.pdf  2002     11  2002-11-04  \n",
       "/home/ubuntu/hal/data/0.scco/62.pdf  2002     11  2002-11-19  "
      ]
     },
     "execution_count": 6,
     "metadata": {},
     "output_type": "execute_result"
    }
   ],
   "source": [
    "data = pd.read_csv(\"/home/ubuntu/hal/catalogue.csv\", sep=\";\")\n",
    "data['domain'] = data['domain'].str.slice(2,6)\n",
    "data['submitted_date'] = pd.to_datetime(data['submitted_date'])\n",
    "data['year'] = data['submitted_date'].dt.year\n",
    "data['month'] = data['submitted_date'].dt.month\n",
    "data['date'] = data['submitted_date'].dt.date\n",
    "data.index = data['filepath']\n",
    "data.index.name = \"\"\n",
    "data.head()"
   ]
  },
  {
   "cell_type": "code",
   "execution_count": 7,
   "metadata": {},
   "outputs": [
    {
     "data": {
      "text/plain": [
       "docid                      int64\n",
       "domain                    object\n",
       "submitted_date    datetime64[ns]\n",
       "title                     object\n",
       "file_url                  object\n",
       "inst                      object\n",
       "language                  object\n",
       "filepath                  object\n",
       "year                       int64\n",
       "month                      int64\n",
       "date                      object\n",
       "dtype: object"
      ]
     },
     "execution_count": 7,
     "metadata": {},
     "output_type": "execute_result"
    }
   ],
   "source": [
    "data.dtypes"
   ]
  },
  {
   "cell_type": "code",
   "execution_count": null,
   "metadata": {},
   "outputs": [],
   "source": []
  },
  {
   "cell_type": "markdown",
   "metadata": {},
   "source": [
    "##### Documents Objects"
   ]
  },
  {
   "cell_type": "code",
   "execution_count": 8,
   "metadata": {},
   "outputs": [],
   "source": [
    "mongo_query = [{\"$project\":{\n",
    "                      \"path\":\"$path\", \n",
    "                      \"language\":\"$language\", \n",
    "                        \"nbPages\":\"$nbPages\"           \n",
    "        }}]\n"
   ]
  },
  {
   "cell_type": "code",
   "execution_count": 9,
   "metadata": {},
   "outputs": [],
   "source": [
    "mongo_cursor = collection.aggregate(mongo_query)\n",
    "for doc in mongo_cursor:\n",
    "    neo_query_params = {}\n",
    "    if(doc.get(\"_id\") != None):\n",
    "        neo_query_params[\"identifier\"] = '''\"'''+str(doc['_id'])+'''\"'''\n",
    "    if(doc.get(\"nbPages\") != None):\n",
    "        neo_query_params[\"nbPages\"] = '''\"'''+str(doc['nbPages'])+'''\"'''\n",
    "    if(doc.get(\"path\") != None):\n",
    "        neo_query_params[\"submissionDate\"] = '''date(\"'''+str(data.loc[doc.get(\"path\"),'date'])+'''\")''' \n",
    "        neo_query_params[\"title\"] = '''\"'''+str(data.loc[doc.get(\"path\"),'title']).replace(\"'\", \"\").replace('''\"''', \"\")+'''\"''' \n",
    "    graph.run('''CREATE (c:Object:Document '''+str(neo_query_params).replace(\"'\", \"\").replace(\"\\\\\",\" \")+''') RETURN c''')"
   ]
  },
  {
   "cell_type": "markdown",
   "metadata": {},
   "source": [
    "##### Raw representations"
   ]
  },
  {
   "cell_type": "code",
   "execution_count": 10,
   "metadata": {},
   "outputs": [],
   "source": [
    "mongo_query = [{\"$project\":{\"path\":\"$path\"\n",
    "        }}]"
   ]
  },
  {
   "cell_type": "code",
   "execution_count": 11,
   "metadata": {},
   "outputs": [],
   "source": [
    "mongo_cursor = collection.aggregate(mongo_query)\n",
    "for doc in mongo_cursor:\n",
    "    graph.run('''CREATE (r:Raw:Document {identifier:\"'''+str(doc['_id'])+'''\", \n",
    "            path:\"'''+str(doc['path'])+'''\"})''')\n",
    "    graph.run('''MATCH (o:Object {identifier:\"'''+str(doc['_id'])+'''\"}), \n",
    "        (r:Raw {identifier:\"'''+str(doc['_id'])+'''\"})\n",
    "                CREATE (o)-[l:REPRESENTATION]->(r)''')"
   ]
  },
  {
   "cell_type": "code",
   "execution_count": null,
   "metadata": {},
   "outputs": [],
   "source": []
  },
  {
   "cell_type": "code",
   "execution_count": 12,
   "metadata": {},
   "outputs": [],
   "source": [
    "##### GROUPING CREATION\n",
    "def generate_grouping(grouping_name, neo):\n",
    "    #TAKES: grouping_name, neo4j graph\n",
    "    #RETURNS: id of the generated node\n",
    "    \n",
    "    result = neo.run('CREATE (c:Grouping {name:\"'+grouping_name+'\"}) RETURN ID(c) AS id')\n",
    "    grouping_id = result.data()[0]['id']\n",
    "    return grouping_id\n",
    "\n",
    "def generate_groups(grouping_name, neo, mongo):\n",
    "    #TAKES: grouping_name, neo4j graph, mongodb collection\n",
    "    #RETURNS: list ids of the generated nodes\n",
    "    \n",
    "    #Getting groups from mongoDB\n",
    "    mongo_query = [{\"$match\":{}}, \n",
    "        {\"$group\":{\"_id\":\"$\"+grouping_name ,\"count\":{\"$sum\":1}}}]\n",
    "    mongo_cursor = mongo.aggregate(pipeline=mongo_query,allowDiskUse=True)\n",
    "    group_ids = []\n",
    "    group_names = []\n",
    "    #Insertion of each group in Neo4j\n",
    "    for item in mongo_cursor:\n",
    "        group_name = str(item['_id'])\n",
    "        result = neo.run('CREATE (c:Group {name:\"'+group_name+'\"}) RETURN ID(c) AS id')\n",
    "        group_ids.append(result.data()[0]['id'])\n",
    "        #print(group_ids)\n",
    "    return group_ids\n",
    "\n",
    "def generate_groups_membership(grouping_id, group_ids, neo):\n",
    "    #TAKES: grouping_id, list of group ids, neo4j graph\n",
    "    #RETURNS: list ids of the generated nodes\n",
    "    neo_query = '''MATCH (a:Grouping),(b:Group)\n",
    "    WHERE ID(a)='''+str(grouping_id)+''' AND ID(b) IN '''+str(group_ids)+'''\n",
    "    CREATE (a)<-[r:MEMBER]-(b)\n",
    "    RETURN a,b'''\n",
    "    result = neo.run(neo_query)\n",
    "    #print(result.data())\n",
    "    \n",
    "def generate_docs_classification(grouping_name, neo, mongo):\n",
    "    #TAKES: grouping_name, neo4j graph, mongodb collection\n",
    "    #RETURNS:\n",
    "    \n",
    "    #Identification of associated members\n",
    "    neo_query = '''MATCH (p:Group)-[r:MEMBER]->(q:Grouping {name:\"'''+grouping_name+'''\"}) \n",
    "                RETURN p.name AS name, ID(p) AS id'''\n",
    "    result = neo.run(neo_query)\n",
    "    \n",
    "    #For each group we get relative docs from mongo\n",
    "    for item in result.data():\n",
    "        group_id = item['id']\n",
    "        group_name = item['name']\n",
    "        query_selection= {grouping_name:group_name} \n",
    "        query_projection = {\"_id\":1}\n",
    "        mongo_cursor = mongo.find(query_selection, query_projection)     \n",
    "        #For each doc we add a relationship with the relative group\n",
    "        for doc in mongo_cursor:\n",
    "            doc_id = doc['_id']\n",
    "            #print(1)\n",
    "            query = '''MATCH (g:Group {name:\"'''+group_name+'''\"}),(d:Object {identifier:\"'''+doc_id+'''\"})\n",
    "            CREATE (g)<-[r:CLASSIFIED]-(d)\n",
    "            RETURN g,d'''\n",
    "            result = neo.run(query)"
   ]
  },
  {
   "cell_type": "code",
   "execution_count": 13,
   "metadata": {},
   "outputs": [],
   "source": [
    "def generate_grouping_metadata(grouping_name, neo, mongo):\n",
    "    grouping_id = generate_grouping(grouping_name, neo)\n",
    "    group_ids = generate_groups(grouping_name, neo, mongo)\n",
    "    generate_groups_membership(grouping_id, group_ids, neo)\n",
    "    generate_docs_classification(grouping_name, neo, mongo)"
   ]
  },
  {
   "cell_type": "markdown",
   "metadata": {},
   "source": [
    "##### Grouping by Language"
   ]
  },
  {
   "cell_type": "code",
   "execution_count": 14,
   "metadata": {},
   "outputs": [],
   "source": [
    "#generate_grouping_metadata(grouping_name=\"language\", neo=graph, mongo=collection)"
   ]
  },
  {
   "cell_type": "markdown",
   "metadata": {},
   "source": [
    "##### Grouping by YEAR"
   ]
  },
  {
   "cell_type": "code",
   "execution_count": 15,
   "metadata": {},
   "outputs": [],
   "source": [
    "def generate_groups_year_month(grouping_name, neo, mongo):\n",
    "    #TAKES: grouping_name, neo4j graph, mongodb collection\n",
    "    #RETURNS: list ids of the generated nodes\n",
    "    \n",
    "    #Getting groups from mongoDB\n",
    "    years = data[grouping_name].fillna(\"UNKNOWN\").value_counts()\n",
    "    \n",
    "    group_ids = []\n",
    "    group_names = []\n",
    "    #Insertion of each group in Neo4j\n",
    "    for item in years.index:\n",
    "        group_name = str(item)\n",
    "        if(group_name == 'None'):#Special group node UNKNOWN\n",
    "            group_name = 'UNKNOWN'\n",
    "        result = neo.run('CREATE (c:Group {name:\"'+group_name+'\"}) RETURN ID(c) AS id')\n",
    "        group_ids.append(result.data()[0]['id'])\n",
    "        #print(group_ids)\n",
    "    return group_ids\n",
    "\n",
    "\n",
    "def generate_docs_classification_year_month(grouping_name, neo, mongo):\n",
    "    #TAKES: grouping_name, neo4j graph, mongodb collection\n",
    "    #RETURNS:\n",
    "    \n",
    "    #Identification of associated members\n",
    "    neo_query = '''MATCH (p:Group)-[r:MEMBER]->(q:Grouping {name:\"'''+grouping_name+'''\"}) \n",
    "                RETURN p.name AS name, ID(p) AS id'''\n",
    "    result = neo.run(neo_query)\n",
    "    \n",
    "    #For each group we get relative docs from mongo\n",
    "    for item in result.data():\n",
    "        group_id = item['id']\n",
    "        group_name = item['name']\n",
    "        if group_name == 'UNKNOWN': #Special case of null values\n",
    "            conv_group_name = None\n",
    "        else: #Otherwise, converting to int\n",
    "            conv_group_name = int(group_name)\n",
    "        mongo_query = [{\"$project\":{\n",
    "                      \"path\":\"$path\",            \n",
    "        }}]\n",
    "        mongo_cursor = mongo.aggregate(mongo_query)     \n",
    "        #For each doc we add a relationship with the relative group\n",
    "        for i, doc in enumerate(mongo_cursor):\n",
    "            doc_id = doc['_id']\n",
    "            if data.loc[doc['path'], grouping_name] == conv_group_name:\n",
    "                query = '''MATCH (g:Group {name:\"'''+group_name+'''\"}),(d:Object {identifier:\"'''+doc_id+'''\"})\n",
    "                WHERE ID(g) = '''+str(group_id)+'''\n",
    "                CREATE (g)<-[r:CLASSIFIED]-(d)\n",
    "                RETURN g,d'''\n",
    "                result = neo.run(query)"
   ]
  },
  {
   "cell_type": "code",
   "execution_count": 16,
   "metadata": {},
   "outputs": [],
   "source": [
    "def generate_grouping_metadata_year_month(grouping_name, neo, mongo):\n",
    "    grouping_id = generate_grouping(grouping_name, neo)\n",
    "    group_ids = generate_groups_year_month(grouping_name, neo, mongo)\n",
    "    generate_groups_membership(grouping_id, group_ids, neo)\n",
    "    generate_docs_classification_year_month(grouping_name, neo, mongo)"
   ]
  },
  {
   "cell_type": "code",
   "execution_count": 17,
   "metadata": {},
   "outputs": [],
   "source": [
    "generate_grouping_metadata_year_month(grouping_name=\"year\", neo=graph, mongo=collection)"
   ]
  },
  {
   "cell_type": "code",
   "execution_count": null,
   "metadata": {},
   "outputs": [],
   "source": []
  },
  {
   "cell_type": "markdown",
   "metadata": {},
   "source": [
    "##### Grouping by MONTH"
   ]
  },
  {
   "cell_type": "code",
   "execution_count": 18,
   "metadata": {},
   "outputs": [],
   "source": [
    "generate_grouping_metadata_year_month(grouping_name=\"month\", neo=graph, mongo=collection)"
   ]
  },
  {
   "cell_type": "code",
   "execution_count": null,
   "metadata": {},
   "outputs": [],
   "source": []
  },
  {
   "cell_type": "markdown",
   "metadata": {},
   "source": [
    "##### Grouping by DOMAIN"
   ]
  },
  {
   "cell_type": "code",
   "execution_count": 19,
   "metadata": {},
   "outputs": [],
   "source": [
    "def generate_groups_from_metadata(grouping_name, neo, mongo):\n",
    "    #TAKES: grouping_name, neo4j graph, mongodb collection\n",
    "    #RETURNS: list ids of the generated nodes\n",
    "    \n",
    "    #Getting groups from mongoDB\n",
    "    years = data[grouping_name].fillna(\"UNKNOWN\").value_counts()\n",
    "    \n",
    "    group_ids = []\n",
    "    group_names = []\n",
    "    #Insertion of each group in Neo4j\n",
    "    for item in years.index:\n",
    "        group_name = str(item)\n",
    "        if(group_name == 'None'):#Special group node UNKNOWN\n",
    "            group_name = 'UNKNOWN'\n",
    "        result = neo.run('CREATE (c:Group {name:\"'+group_name+'\"}) RETURN ID(c) AS id')\n",
    "        group_ids.append(result.data()[0]['id'])\n",
    "        #print(group_ids)\n",
    "    return group_ids\n",
    "\n",
    "\n",
    "def generate_docs_classification_from_metadata(grouping_name, neo, mongo):\n",
    "    #TAKES: grouping_name, neo4j graph, mongodb collection\n",
    "    #RETURNS:\n",
    "    \n",
    "    #Identification of associated members\n",
    "    neo_query = '''MATCH (p:Group)-[r:MEMBER]->(q:Grouping {name:\"'''+grouping_name+'''\"}) \n",
    "                RETURN p.name AS name, ID(p) AS id'''\n",
    "    result = neo.run(neo_query)\n",
    "    \n",
    "    #For each group we get relative docs from mongo\n",
    "    for item in result.data():\n",
    "        group_id = item['id']\n",
    "        group_name = item['name']\n",
    "        if group_name == 'UNKNOWN': #Special case of null values\n",
    "            conv_group_name = None\n",
    "        else: #Otherwise, converting to int\n",
    "            conv_group_name = group_name\n",
    "        mongo_query = [{\"$project\":{\n",
    "                      \"path\":\"$path\",            \n",
    "        }}]\n",
    "        mongo_cursor = mongo.aggregate(mongo_query)     \n",
    "        #For each doc we add a relationship with the relative group\n",
    "        for i, doc in enumerate(mongo_cursor):\n",
    "            doc_id = doc['_id']\n",
    "            if data.loc[doc['path'], grouping_name] == conv_group_name:\n",
    "                query = '''MATCH (g:Group {name:\"'''+group_name+'''\"}),(d:Object {identifier:\"'''+doc_id+'''\"})\n",
    "                WHERE ID(g) = '''+str(group_id)+'''\n",
    "                CREATE (g)<-[r:CLASSIFIED]-(d)\n",
    "                RETURN g,d'''\n",
    "                result = neo.run(query)"
   ]
  },
  {
   "cell_type": "code",
   "execution_count": 20,
   "metadata": {},
   "outputs": [],
   "source": [
    "def generate_grouping_metadata_from_metadata(grouping_name, neo, mongo): \n",
    "    grouping_id = generate_grouping(grouping_name, neo)\n",
    "    group_ids = generate_groups_from_metadata(grouping_name, neo, mongo)\n",
    "    generate_groups_membership(grouping_id, group_ids, neo)\n",
    "    generate_docs_classification_from_metadata(grouping_name, neo, mongo)"
   ]
  },
  {
   "cell_type": "code",
   "execution_count": 21,
   "metadata": {},
   "outputs": [],
   "source": [
    "generate_grouping_metadata_from_metadata(\"domain\", neo=graph, mongo=collection)"
   ]
  },
  {
   "cell_type": "code",
   "execution_count": null,
   "metadata": {},
   "outputs": [],
   "source": []
  },
  {
   "cell_type": "markdown",
   "metadata": {},
   "source": [
    "#### Grouping by Language"
   ]
  },
  {
   "cell_type": "code",
   "execution_count": 22,
   "metadata": {},
   "outputs": [],
   "source": [
    "generate_grouping_metadata_from_metadata(\"language\", neo=graph, mongo=collection)"
   ]
  },
  {
   "cell_type": "code",
   "execution_count": null,
   "metadata": {},
   "outputs": [],
   "source": []
  },
  {
   "cell_type": "markdown",
   "metadata": {},
   "source": [
    "#### Grouping by Institution country"
   ]
  },
  {
   "cell_type": "code",
   "execution_count": 1,
   "metadata": {},
   "outputs": [],
   "source": [
    "#generate_grouping_metadata_from_metadata(\"inst\", neo=graph, mongo=collection)"
   ]
  },
  {
   "cell_type": "code",
   "execution_count": null,
   "metadata": {},
   "outputs": [],
   "source": []
  },
  {
   "cell_type": "markdown",
   "metadata": {},
   "source": [
    "##### Indexing"
   ]
  },
  {
   "cell_type": "code",
   "execution_count": null,
   "metadata": {},
   "outputs": [],
   "source": [
    "try:\n",
    "    res = graph.run('''DROP INDEX idx_grouping_name''')\n",
    "    res = graph.run('''DROP INDEX idx_group_name''')\n",
    "    res = graph.run('''DROP INDEX idx_object_identifier''')\n",
    "    print(\"Indexes droped successfully\")\n",
    "except:\n",
    "    print(\"No indexes\")"
   ]
  },
  {
   "cell_type": "code",
   "execution_count": null,
   "metadata": {},
   "outputs": [],
   "source": [
    "try:\n",
    "    res = graph.run('''CREATE INDEX idx_grouping_name\n",
    "    FOR (n:Grouping)\n",
    "    ON (n.name)''')\n",
    "    res = graph.run('''CREATE INDEX idx_group_name \n",
    "    FOR (n:Group)\n",
    "    ON (n.name)''')\n",
    "    res = graph.run('''CREATE INDEX idx_object_identifier \n",
    "    FOR (n:Object)\n",
    "    ON (n.identifier)''')\n",
    "    print(\"Indexes created successfully\")\n",
    "except:\n",
    "    print(\"Unable to create indexes\")"
   ]
  },
  {
   "cell_type": "code",
   "execution_count": 24,
   "metadata": {},
   "outputs": [
    {
     "name": "stdout",
     "output_type": "stream",
     "text": [
      "********************\n",
      "STARTED : Wed Jan 27 09:13:43 2021\n",
      "END : Wed Jan 27 13:19:48 2021\n",
      "TIME ELAPSED:246.07996703386306 MINUTES\n"
     ]
    }
   ],
   "source": [
    "done = time()\n",
    "elapsed = done - start\n",
    "print(\"*\"*20)\n",
    "print(\"STARTED : \"+ctime(start) )\n",
    "print(\"END : \"+ctime(done) )\n",
    "print(\"TIME ELAPSED:\" + str(elapsed/60) + \" MINUTES\" )"
   ]
  },
  {
   "cell_type": "code",
   "execution_count": null,
   "metadata": {},
   "outputs": [],
   "source": []
  }
 ],
 "metadata": {
  "kernelspec": {
   "display_name": "Python 3",
   "language": "python",
   "name": "python3"
  },
  "language_info": {
   "codemirror_mode": {
    "name": "ipython",
    "version": 3
   },
   "file_extension": ".py",
   "mimetype": "text/x-python",
   "name": "python",
   "nbconvert_exporter": "python",
   "pygments_lexer": "ipython3",
   "version": "3.8.5"
  }
 },
 "nbformat": 4,
 "nbformat_minor": 2
}
